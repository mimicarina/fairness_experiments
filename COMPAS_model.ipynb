{
 "cells": [
  {
   "cell_type": "markdown",
   "metadata": {},
   "source": [
    "# Reproducing COMPAS analysis and modelling in Python"
   ]
  },
  {
   "cell_type": "markdown",
   "metadata": {},
   "source": [
    "## Part 1 - Load libraries"
   ]
  },
  {
   "cell_type": "code",
   "execution_count": 1,
   "metadata": {},
   "outputs": [],
   "source": [
    "import pandas as pd\n",
    "import numpy as np\n",
    "from datetime import datetime\n",
    "from scipy.stats import pearsonr\n",
    "from sklearn.linear_model import LogisticRegression\n",
    "from sklearn.metrics import accuracy_score, log_loss\n",
    "\n",
    "def date_from_str(s):\n",
    "    return datetime.strptime(s, '%Y-%m-%d %H:%M:%S')"
   ]
  },
  {
   "cell_type": "markdown",
   "metadata": {},
   "source": [
    "## Part 2 - Download data"
   ]
  },
  {
   "cell_type": "code",
   "execution_count": 2,
   "metadata": {},
   "outputs": [
    {
     "name": "stdout",
     "output_type": "stream",
     "text": [
      "--2023-03-31 20:44:07--  https://raw.githubusercontent.com/propublica/compas-analysis/master/compas-scores-two-years.csv\n",
      "Resolving raw.githubusercontent.com (raw.githubusercontent.com)... 185.199.111.133, 185.199.108.133, 185.199.109.133, ...\n",
      "Connecting to raw.githubusercontent.com (raw.githubusercontent.com)|185.199.111.133|:443... connected.\n",
      "HTTP request sent, awaiting response... 200 OK\n",
      "Length: 2546489 (2.4M) [text/plain]\n",
      "Saving to: ‘compas-scores-two-years.csv’\n",
      "\n",
      "compas-scores-two-y 100%[===================>]   2.43M  --.-KB/s    in 0.1s    \n",
      "\n",
      "2023-03-31 20:44:08 (22.1 MB/s) - ‘compas-scores-two-years.csv’ saved [2546489/2546489]\n",
      "\n"
     ]
    }
   ],
   "source": [
    "!wget https://raw.githubusercontent.com/propublica/compas-analysis/master/compas-scores-two-years.csv"
   ]
  },
  {
   "cell_type": "markdown",
   "metadata": {},
   "source": [
    "## Part 3 - Import and prepare data\n",
    "Broward county data filtered to only include those rows representing people who had either recidivated in two years, or had at least two years outside of a correctional facility."
   ]
  },
  {
   "cell_type": "code",
   "execution_count": 3,
   "metadata": {},
   "outputs": [],
   "source": [
    "# Load CSV \n",
    "raw_data = pd.read_csv(\"compas-scores-two-years.csv\")"
   ]
  },
  {
   "cell_type": "code",
   "execution_count": 4,
   "metadata": {},
   "outputs": [
    {
     "name": "stdout",
     "output_type": "stream",
     "text": [
      "Num rows: 7214\n"
     ]
    }
   ],
   "source": [
    "print('Num rows: %d' %len(raw_data))"
   ]
  },
  {
   "cell_type": "code",
   "execution_count": 5,
   "metadata": {},
   "outputs": [],
   "source": [
    "# Select subset of columns\n",
    "df = raw_data[['age', 'c_charge_degree', 'race', 'age_cat', \n",
    "               'score_text', 'sex', 'priors_count', 'days_b_screening_arrest', \n",
    "               'decile_score', 'is_recid', 'two_year_recid', 'c_jail_in', 'c_jail_out']]"
   ]
  },
  {
   "cell_type": "markdown",
   "metadata": {},
   "source": [
    "To clean up data, the following considerations were made:\n",
    "- Remove rows where charge data was not within 30 days from when the person was arrested (assumption of data quality issues)\n",
    "- Remove is_recid -1 if as there is no matching COMPAS case\n",
    "- Remove ordinary traffic offenses (c_charge_degree of 'O') as those will not result in jail time"
   ]
  },
  {
   "cell_type": "code",
   "execution_count": 6,
   "metadata": {},
   "outputs": [
    {
     "name": "stdout",
     "output_type": "stream",
     "text": [
      "Num rows filtered: 6172\n"
     ]
    }
   ],
   "source": [
    "# Apply filters\n",
    "df = df[((df['days_b_screening_arrest'] <=30) & \n",
    "      (df['days_b_screening_arrest'] >= -30) &\n",
    "      (df['is_recid'] != -1) &\n",
    "      (df['c_charge_degree'] != 'O') & \n",
    "      (df['score_text'] != 'N/A')\n",
    "     )]\n",
    "\n",
    "print('Num rows filtered: %d' % len(df))"
   ]
  },
  {
   "cell_type": "code",
   "execution_count": 7,
   "metadata": {},
   "outputs": [
    {
     "name": "stdout",
     "output_type": "stream",
     "text": [
      "Correlation btw stay length and COMPAS scores: 0.207\n"
     ]
    }
   ],
   "source": [
    "# Calculate lenght of stay in seconds for correlation\n",
    "df['length_of_stay'] = (df.loc[:]['c_jail_out'].apply(date_from_str) - df.loc[:]['c_jail_in'].apply(date_from_str)).dt.total_seconds()\n",
    "\n",
    "# Calculate correlation\n",
    "stay_score_corr = pearsonr(df['length_of_stay'], df['decile_score'])[0]\n",
    "\n",
    "# Print results\n",
    "print('Correlation btw stay length and COMPAS scores: %.3f' % stay_score_corr)"
   ]
  },
  {
   "cell_type": "code",
   "execution_count": 8,
   "metadata": {},
   "outputs": [],
   "source": [
    "# Replace 'Caucasian' with '0_Caucasian' to ensure that the LR model will produce results with reference to Caucasian category\n",
    "df.loc[df['race']=='Caucasian','race'] = '0_Caucasian'"
   ]
  },
  {
   "cell_type": "code",
   "execution_count": 9,
   "metadata": {},
   "outputs": [],
   "source": [
    "# One hot encode the categorical data\n",
    "df_crime = pd.get_dummies(df['c_charge_degree'],prefix='crime_factor',drop_first=True)\n",
    "df_age = pd.get_dummies(df['age_cat'],prefix='age_factor',drop_first=True)\n",
    "df_race = pd.get_dummies(df['race'],prefix='race_factor', drop_first=True)\n",
    "df_gender = pd.get_dummies(df['sex'],prefix='gender_factor').drop('gender_factor_Male', axis = 1)\n",
    "\n",
    "# Set up outcome score column\n",
    "df_score = pd.get_dummies(df['score_text'] != 'Low',prefix='score_factor',drop_first=True)"
   ]
  },
  {
   "cell_type": "code",
   "execution_count": 10,
   "metadata": {},
   "outputs": [],
   "source": [
    "# Join the one hot encoded categoricals\n",
    "df_lr = pd.concat([df_crime, df_age, df_race,df_gender,\n",
    "                   df['priors_count'], df['two_year_recid']\n",
    "                  ],axis=1)\n",
    "\n"
   ]
  },
  {
   "cell_type": "markdown",
   "metadata": {},
   "source": [
    "### Part 4 - Build classifier"
   ]
  },
  {
   "cell_type": "code",
   "execution_count": 11,
   "metadata": {},
   "outputs": [
    {
     "data": {
      "text/plain": [
       "LogisticRegression(penalty='none', solver='newton-cg')"
      ]
     },
     "execution_count": 11,
     "metadata": {},
     "output_type": "execute_result"
    }
   ],
   "source": [
    "# Extract feature \n",
    "X_train = df_lr.values\n",
    "y_train = df_score.values.ravel()\n",
    "\n",
    "# Initialize LR\n",
    "lr = LogisticRegression(solver='newton-cg', penalty='none')\n",
    "\n",
    "# Train model\n",
    "lr.fit(X_train, y_train)"
   ]
  },
  {
   "cell_type": "code",
   "execution_count": 12,
   "metadata": {},
   "outputs": [
    {
     "name": "stdout",
     "output_type": "stream",
     "text": [
      "                    Coefficients  Estimate\n",
      "0                 crime_factor_M  -0.31124\n",
      "1     age_factor_Greater than 45  -1.35563\n",
      "2        age_factor_Less than 25   1.30839\n",
      "3   race_factor_African-American   0.47721\n",
      "4              race_factor_Asian  -0.25441\n",
      "5           race_factor_Hispanic  -0.42839\n",
      "6    race_factor_Native American   1.39421\n",
      "7              race_factor_Other  -0.82635\n",
      "8           gender_factor_Female   0.22127\n",
      "9                   priors_count   0.26895\n",
      "10                two_year_recid   0.68586\n"
     ]
    }
   ],
   "source": [
    "# Extract coefficients\n",
    "results = pd.DataFrame(lr.coef_[0].reshape(1, -1), columns = df_lr.columns.tolist()).T.round(5).reset_index().rename({'index':'Coefficients', 0:'Estimate'}, axis =1)\n",
    "\n",
    "print(results)"
   ]
  },
  {
   "cell_type": "code",
   "execution_count": 13,
   "metadata": {},
   "outputs": [
    {
     "data": {
      "text/plain": [
       "6168.401694733571"
      ]
     },
     "execution_count": 13,
     "metadata": {},
     "output_type": "execute_result"
    }
   ],
   "source": [
    "def residual_deviance(X, y, model):\n",
    "    return 2*log_loss(y, model.predict_proba(X), normalize=False)\n",
    "\n",
    "residual_deviance(X_train, y_train, lr)"
   ]
  },
  {
   "cell_type": "markdown",
   "metadata": {},
   "source": [
    "### Part 5 - Evaluate predictions"
   ]
  },
  {
   "cell_type": "code",
   "execution_count": 14,
   "metadata": {},
   "outputs": [],
   "source": [
    "# Get predictions\n",
    "y_train_pred = lr.predict(X_train)"
   ]
  },
  {
   "cell_type": "code",
   "execution_count": 15,
   "metadata": {},
   "outputs": [
    {
     "data": {
      "text/plain": [
       "0.7519442644199611"
      ]
     },
     "execution_count": 15,
     "metadata": {},
     "output_type": "execute_result"
    }
   ],
   "source": [
    "# Get accuracy of model\n",
    "accuracy_score(y_train, y_train_pred)"
   ]
  },
  {
   "cell_type": "code",
   "execution_count": 16,
   "metadata": {},
   "outputs": [
    {
     "data": {
      "text/plain": [
       "1.4528406634846986"
      ]
     },
     "execution_count": 16,
     "metadata": {},
     "output_type": "execute_result"
    }
   ],
   "source": [
    "control = np.exp(lr.intercept_[0]) / (1 + np.exp(lr.intercept_[0]))\n",
    "np.exp(0.47721) / (1 - control + (control * np.exp(0.47721)))"
   ]
  },
  {
   "cell_type": "markdown",
   "metadata": {},
   "source": [
    "## Part 6 - Filter for African American and Caucasian"
   ]
  },
  {
   "cell_type": "code",
   "execution_count": 17,
   "metadata": {},
   "outputs": [],
   "source": [
    "# df = df[df['race'].isin(['African-American', 'Caucasian'])==True]\n",
    "# df.reset_index(drop=True, inplace=True)"
   ]
  }
 ],
 "metadata": {
  "kernelspec": {
   "display_name": "Python 3",
   "language": "python",
   "name": "python3"
  },
  "language_info": {
   "codemirror_mode": {
    "name": "ipython",
    "version": 3
   },
   "file_extension": ".py",
   "mimetype": "text/x-python",
   "name": "python",
   "nbconvert_exporter": "python",
   "pygments_lexer": "ipython3",
   "version": "3.8.5"
  }
 },
 "nbformat": 4,
 "nbformat_minor": 4
}
